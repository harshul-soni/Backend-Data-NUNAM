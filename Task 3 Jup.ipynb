{
 "cells": [
  {
   "cell_type": "code",
   "execution_count": 3,
   "metadata": {},
   "outputs": [
    {
     "data": {
      "text/html": [
       "<div>\n",
       "<style scoped>\n",
       "    .dataframe tbody tr th:only-of-type {\n",
       "        vertical-align: middle;\n",
       "    }\n",
       "\n",
       "    .dataframe tbody tr th {\n",
       "        vertical-align: top;\n",
       "    }\n",
       "\n",
       "    .dataframe thead th {\n",
       "        text-align: right;\n",
       "    }\n",
       "</style>\n",
       "<table border=\"1\" class=\"dataframe\">\n",
       "  <thead>\n",
       "    <tr style=\"text-align: right;\">\n",
       "      <th></th>\n",
       "      <th>Realtime</th>\n",
       "      <th>Unnamed: 0</th>\n",
       "      <th>Record ID</th>\n",
       "      <th>Auxiliary channel TU1 U(V)</th>\n",
       "      <th>Gap of Voltage</th>\n",
       "    </tr>\n",
       "  </thead>\n",
       "  <tbody>\n",
       "    <tr>\n",
       "      <th>0</th>\n",
       "      <td>2020-10-10 20:03:00</td>\n",
       "      <td>11.0</td>\n",
       "      <td>12.0</td>\n",
       "      <td>-0.001296</td>\n",
       "      <td>0.0</td>\n",
       "    </tr>\n",
       "    <tr>\n",
       "      <th>1</th>\n",
       "      <td>2020-10-10 20:04:00</td>\n",
       "      <td>52.5</td>\n",
       "      <td>53.5</td>\n",
       "      <td>-0.001270</td>\n",
       "      <td>0.0</td>\n",
       "    </tr>\n",
       "    <tr>\n",
       "      <th>2</th>\n",
       "      <td>2020-10-10 20:05:00</td>\n",
       "      <td>112.5</td>\n",
       "      <td>113.5</td>\n",
       "      <td>-0.001282</td>\n",
       "      <td>0.0</td>\n",
       "    </tr>\n",
       "    <tr>\n",
       "      <th>3</th>\n",
       "      <td>2020-10-10 20:06:00</td>\n",
       "      <td>172.5</td>\n",
       "      <td>173.5</td>\n",
       "      <td>-0.001287</td>\n",
       "      <td>0.0</td>\n",
       "    </tr>\n",
       "    <tr>\n",
       "      <th>4</th>\n",
       "      <td>2020-10-10 20:07:00</td>\n",
       "      <td>232.5</td>\n",
       "      <td>233.5</td>\n",
       "      <td>-0.001275</td>\n",
       "      <td>0.0</td>\n",
       "    </tr>\n",
       "    <tr>\n",
       "      <th>...</th>\n",
       "      <td>...</td>\n",
       "      <td>...</td>\n",
       "      <td>...</td>\n",
       "      <td>...</td>\n",
       "      <td>...</td>\n",
       "    </tr>\n",
       "    <tr>\n",
       "      <th>7638</th>\n",
       "      <td>2020-10-16 03:21:00</td>\n",
       "      <td>23220.5</td>\n",
       "      <td>458384.5</td>\n",
       "      <td>-0.001200</td>\n",
       "      <td>0.0</td>\n",
       "    </tr>\n",
       "    <tr>\n",
       "      <th>7639</th>\n",
       "      <td>2020-10-16 03:22:00</td>\n",
       "      <td>23280.5</td>\n",
       "      <td>458444.5</td>\n",
       "      <td>-0.001200</td>\n",
       "      <td>0.0</td>\n",
       "    </tr>\n",
       "    <tr>\n",
       "      <th>7640</th>\n",
       "      <td>2020-10-16 03:23:00</td>\n",
       "      <td>23340.5</td>\n",
       "      <td>458504.5</td>\n",
       "      <td>-0.001200</td>\n",
       "      <td>0.0</td>\n",
       "    </tr>\n",
       "    <tr>\n",
       "      <th>7641</th>\n",
       "      <td>2020-10-16 03:24:00</td>\n",
       "      <td>23400.5</td>\n",
       "      <td>458564.5</td>\n",
       "      <td>-0.001200</td>\n",
       "      <td>0.0</td>\n",
       "    </tr>\n",
       "    <tr>\n",
       "      <th>7642</th>\n",
       "      <td>2020-10-16 03:25:00</td>\n",
       "      <td>23450.5</td>\n",
       "      <td>458614.5</td>\n",
       "      <td>-0.001200</td>\n",
       "      <td>0.0</td>\n",
       "    </tr>\n",
       "  </tbody>\n",
       "</table>\n",
       "<p>6944 rows × 5 columns</p>\n",
       "</div>"
      ],
      "text/plain": [
       "                 Realtime  Unnamed: 0  Record ID  Auxiliary channel TU1 U(V)  \\\n",
       "0     2020-10-10 20:03:00        11.0       12.0                   -0.001296   \n",
       "1     2020-10-10 20:04:00        52.5       53.5                   -0.001270   \n",
       "2     2020-10-10 20:05:00       112.5      113.5                   -0.001282   \n",
       "3     2020-10-10 20:06:00       172.5      173.5                   -0.001287   \n",
       "4     2020-10-10 20:07:00       232.5      233.5                   -0.001275   \n",
       "...                   ...         ...        ...                         ...   \n",
       "7638  2020-10-16 03:21:00     23220.5   458384.5                   -0.001200   \n",
       "7639  2020-10-16 03:22:00     23280.5   458444.5                   -0.001200   \n",
       "7640  2020-10-16 03:23:00     23340.5   458504.5                   -0.001200   \n",
       "7641  2020-10-16 03:24:00     23400.5   458564.5                   -0.001200   \n",
       "7642  2020-10-16 03:25:00     23450.5   458614.5                   -0.001200   \n",
       "\n",
       "      Gap of Voltage  \n",
       "0                0.0  \n",
       "1                0.0  \n",
       "2                0.0  \n",
       "3                0.0  \n",
       "4                0.0  \n",
       "...              ...  \n",
       "7638             0.0  \n",
       "7639             0.0  \n",
       "7640             0.0  \n",
       "7641             0.0  \n",
       "7642             0.0  \n",
       "\n",
       "[6944 rows x 5 columns]"
      ]
     },
     "execution_count": 3,
     "metadata": {},
     "output_type": "execute_result"
    }
   ],
   "source": [
    "import pandas as pd\n",
    "import numpy as np\n",
    "from scipy.signal import butter,filtfilt,lfilter,freqz\n",
    "from matplotlib import pyplot as plt\n",
    "\n",
    "\n",
    "\n",
    "dataset = pd.read_csv(r'E:\\NUNAM ASSIGN\\detailVolDownsampled.csv')\n",
    "\n",
    "#removing NaN values from auxiliary channel if present\n",
    "\n",
    "dataset['Auxiliary channel TU1 U(V)'] = dataset['Auxiliary channel TU1 U(V)'].fillna(dataset['Auxiliary channel TU1 U(V)'].mean())\n",
    "\n",
    "#removing all rows with any NA values\n",
    "dataset.dropna()\n"
   ]
  },
  {
   "cell_type": "code",
   "execution_count": 4,
   "metadata": {},
   "outputs": [
    {
     "name": "stdout",
     "output_type": "stream",
     "text": [
      "0      -0.001296\n",
      "1      -0.001270\n",
      "2      -0.001282\n",
      "3      -0.001287\n",
      "4      -0.001275\n",
      "          ...   \n",
      "7638   -0.001200\n",
      "7639   -0.001200\n",
      "7640   -0.001200\n",
      "7641   -0.001200\n",
      "7642   -0.001200\n",
      "Name: Auxiliary channel TU1 U(V), Length: 7643, dtype: float64\n"
     ]
    }
   ],
   "source": [
    "col_list = ['Realtime','Unnamed: 0' ,\"Auxiliary channel TU1 U(V)\"]\n",
    "dataset_new = pd.read_csv(r'E:\\NUNAM ASSIGN\\detailVolDownsampled.csv',usecols=col_list)\n",
    "\n",
    "print(dataset_new[\"Auxiliary channel TU1 U(V)\"])"
   ]
  },
  {
   "cell_type": "code",
   "execution_count": 5,
   "metadata": {},
   "outputs": [
    {
     "data": {
      "image/png": "[encoded data removed]",
      "text/plain": [
       "<Figure size 432x288 with 1 Axes>"
      ]
     },
     "metadata": {
      "needs_background": "light"
     },
     "output_type": "display_data"
    }
   ],
   "source": [
    "mu, sigma = 0, 500\n",
    "x =dataset_new['Realtime']\n",
    "y = dataset_new['Unnamed: 0']\n",
    "\n",
    "plt.plot(x, y, linewidth=2, linestyle=\"-\", c=\"b\")  \n",
    "plt.show()\n"
   ]
  },
  {
   "cell_type": "code",
   "execution_count": 6,
   "metadata": {},
   "outputs": [
    {
     "data": {
      "text/plain": [
       "[<matplotlib.lines.Line2D at 0x1e40c5c0bc8>]"
      ]
     },
     "execution_count": 6,
     "metadata": {},
     "output_type": "execute_result"
    },
    {
     "data": {
      "image/png": "[encoded data removed]",
      "text/plain": [
       "<Figure size 432x288 with 1 Axes>"
      ]
     },
     "metadata": {
      "needs_background": "light"
     },
     "output_type": "display_data"
    }
   ],
   "source": [
    "\n",
    "\n",
    "from scipy.signal import savgol_filter\n",
    "w = savgol_filter(y, 101, 2)\n",
    "plt.plot(x, w, 'b')  \n"
   ]
  },
  {
   "cell_type": "code",
   "execution_count": null,
   "metadata": {},
   "outputs": [],
   "source": []
  },
  {
   "cell_type": "code",
   "execution_count": null,
   "metadata": {},
   "outputs": [],
   "source": []
  }
 ],
 "metadata": {
  "kernelspec": {
   "display_name": "Python 3",
   "language": "python",
   "name": "python3"
  },
  "language_info": {
   "codemirror_mode": {
    "name": "ipython",
    "version": 3
   },
   "file_extension": ".py",
   "mimetype": "text/x-python",
   "name": "python",
   "nbconvert_exporter": "python",
   "pygments_lexer": "ipython3",
   "version": "3.7.6"
  }
 },
 "nbformat": 4,
 "nbformat_minor": 4
}
